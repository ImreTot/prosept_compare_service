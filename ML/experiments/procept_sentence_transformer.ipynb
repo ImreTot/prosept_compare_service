{
 "cells": [
  {
   "cell_type": "markdown",
   "id": "bbb44e3d",
   "metadata": {},
   "source": [
    "<div style=\"padding:15px 20px 20px 20px;\n",
    "            color:#004346;\n",
    "            font-size:40px;\n",
    "            display:fill;\n",
    "            text-align:center;\n",
    "            border-radius:20px;\n",
    "            border: 5px double;\n",
    "            border-color:#201E20;\n",
    "            background-color: #E8F1F2;\n",
    "            overflow:hidden;\n",
    "            font-weight:400\">\n",
    "<p style=\"font-weight: bold; text-align: center;\">SentenceTransformer</p>\n",
    "\n",
    "</div>\n",
    "\n",
    "\n",
    "[SentenceTransformers](https://www.sbert.net/) — это платформа Python для современного встраивания предложений, текста и изображений. "
   ]
  },
  {
   "cell_type": "markdown",
   "id": "d2087c10",
   "metadata": {},
   "source": [
    "<div style=\"padding:0px 20px 10px;\n",
    "            color:#004346;\n",
    "            font-size:15px;\n",
    "            display:fill;\n",
    "            text-align:center;\n",
    "            border-radius:20px;\n",
    "            border: 5px double;\n",
    "            border-color:#201E20;\n",
    "            background-color: #E8F1F2;\n",
    "            overflow:hidden;\n",
    "            font-weight:400\">\n",
    "\n",
    "# Используемые библиотеки\n",
    "\n",
    "</div>"
   ]
  },
  {
   "cell_type": "code",
   "execution_count": 1,
   "id": "9370cf37",
   "metadata": {},
   "outputs": [],
   "source": [
    "from rich.console import Console\n",
    "import os\n",
    "import numpy as np\n",
    "import pandas as pd\n",
    "import random\n",
    "import re\n",
    "from sentence_transformers import SentenceTransformer, util\n",
    "\n",
    "# константы\n",
    "RANDOM_SEED = 42\n",
    "BASE_PATH = 'data' # корневая директория\n",
    "\n",
    "# настройки блокнота\n",
    "pd.options.display.max_colwidth = 500\n",
    "random.seed(RANDOM_SEED)\n",
    "\n",
    "# экземпляр консоли\n",
    "console = Console()"
   ]
  },
  {
   "cell_type": "markdown",
   "id": "a0d9d38b",
   "metadata": {},
   "source": [
    "<div style=\"padding:0px 20px 10px;\n",
    "            color:#004346;\n",
    "            font-size:15px;\n",
    "            display:fill;\n",
    "            text-align:center;\n",
    "            border-radius:20px;\n",
    "            border: 5px double;\n",
    "            border-color:#201E20;\n",
    "            background-color: #E8F1F2;\n",
    "            overflow:hidden;\n",
    "            font-weight:400\">\n",
    "\n",
    "# Анализ данных\n",
    "\n",
    "</div>\n",
    "\n",
    "## Загрузка данных и общая информация"
   ]
  },
  {
   "cell_type": "code",
   "execution_count": 2,
   "id": "c3b9d993",
   "metadata": {},
   "outputs": [
    {
     "data": {
      "text/html": [
       "<pre style=\"white-space:pre;overflow-x:auto;line-height:normal;font-family:Menlo,'DejaVu Sans Mono',consolas,'Courier New',monospace\"><span style=\"font-weight: bold\">Список товаров:</span>\n",
       "</pre>\n"
      ],
      "text/plain": [
       "\u001b[1mСписок товаров:\u001b[0m\n"
      ]
     },
     "metadata": {},
     "output_type": "display_data"
    },
    {
     "data": {
      "text/html": [
       "<div>\n",
       "<style scoped>\n",
       "    .dataframe tbody tr th:only-of-type {\n",
       "        vertical-align: middle;\n",
       "    }\n",
       "\n",
       "    .dataframe tbody tr th {\n",
       "        vertical-align: top;\n",
       "    }\n",
       "\n",
       "    .dataframe thead th {\n",
       "        text-align: right;\n",
       "    }\n",
       "</style>\n",
       "<table border=\"1\" class=\"dataframe\">\n",
       "  <thead>\n",
       "    <tr style=\"text-align: right;\">\n",
       "      <th></th>\n",
       "      <th>Unnamed: 0</th>\n",
       "      <th>id</th>\n",
       "      <th>article</th>\n",
       "      <th>ean_13</th>\n",
       "      <th>name</th>\n",
       "      <th>cost</th>\n",
       "      <th>recommended_price</th>\n",
       "      <th>category_id</th>\n",
       "      <th>ozon_name</th>\n",
       "      <th>name_1c</th>\n",
       "      <th>wb_name</th>\n",
       "      <th>ozon_article</th>\n",
       "      <th>wb_article</th>\n",
       "      <th>ym_article</th>\n",
       "      <th>wb_article_td</th>\n",
       "    </tr>\n",
       "  </thead>\n",
       "  <tbody>\n",
       "    <tr>\n",
       "      <th>0</th>\n",
       "      <td>0</td>\n",
       "      <td>245</td>\n",
       "      <td>008-1</td>\n",
       "      <td>4.680008e+12</td>\n",
       "      <td>Антисептик невымываемыйPROSEPT ULTRAконцентрат 1:10  / 1 л</td>\n",
       "      <td>360.00</td>\n",
       "      <td>858.0</td>\n",
       "      <td>20.0</td>\n",
       "      <td>Антисептик невымываемый для ответственных конструкций PROSEPT ULTRA, концентрат, 1 л.</td>\n",
       "      <td>Антисептик невымываемый для ответственных конструкций PROSEPT ULTRA, концентрат, 1 л.</td>\n",
       "      <td>Антисептик невымываемый для ответственных конструкций PROSEPT ULTRA, концентрат, 1 л.</td>\n",
       "      <td>189522705.0</td>\n",
       "      <td>150033482.0</td>\n",
       "      <td>008-1</td>\n",
       "      <td>NaN</td>\n",
       "    </tr>\n",
       "    <tr>\n",
       "      <th>1</th>\n",
       "      <td>1</td>\n",
       "      <td>3</td>\n",
       "      <td>242-12</td>\n",
       "      <td>NaN</td>\n",
       "      <td>Антигололед - 32 PROSEPTготовый состав / 12 кг</td>\n",
       "      <td>460.16</td>\n",
       "      <td>1075.0</td>\n",
       "      <td>NaN</td>\n",
       "      <td>NaN</td>\n",
       "      <td>Антигололед - 32 PROSEPTготовый состав / 12 кг</td>\n",
       "      <td>NaN</td>\n",
       "      <td>NaN</td>\n",
       "      <td>NaN</td>\n",
       "      <td>NaN</td>\n",
       "      <td>NaN</td>\n",
       "    </tr>\n",
       "  </tbody>\n",
       "</table>\n",
       "</div>"
      ],
      "text/plain": [
       "   Unnamed: 0   id article        ean_13  \\\n",
       "0           0  245   008-1  4.680008e+12   \n",
       "1           1    3  242-12           NaN   \n",
       "\n",
       "                                                         name    cost  \\\n",
       "0  Антисептик невымываемыйPROSEPT ULTRAконцентрат 1:10  / 1 л  360.00   \n",
       "1              Антигололед - 32 PROSEPTготовый состав / 12 кг  460.16   \n",
       "\n",
       "   recommended_price  category_id  \\\n",
       "0              858.0         20.0   \n",
       "1             1075.0          NaN   \n",
       "\n",
       "                                                                               ozon_name  \\\n",
       "0  Антисептик невымываемый для ответственных конструкций PROSEPT ULTRA, концентрат, 1 л.   \n",
       "1                                                                                    NaN   \n",
       "\n",
       "                                                                                 name_1c  \\\n",
       "0  Антисептик невымываемый для ответственных конструкций PROSEPT ULTRA, концентрат, 1 л.   \n",
       "1                                         Антигололед - 32 PROSEPTготовый состав / 12 кг   \n",
       "\n",
       "                                                                                 wb_name  \\\n",
       "0  Антисептик невымываемый для ответственных конструкций PROSEPT ULTRA, концентрат, 1 л.   \n",
       "1                                                                                    NaN   \n",
       "\n",
       "   ozon_article   wb_article ym_article wb_article_td  \n",
       "0   189522705.0  150033482.0      008-1           NaN  \n",
       "1           NaN          NaN        NaN           NaN  "
      ]
     },
     "metadata": {},
     "output_type": "display_data"
    },
    {
     "name": "stdout",
     "output_type": "stream",
     "text": [
      "<class 'pandas.core.frame.DataFrame'>\n",
      "RangeIndex: 496 entries, 0 to 495\n",
      "Data columns (total 15 columns):\n",
      " #   Column             Non-Null Count  Dtype  \n",
      "---  ------             --------------  -----  \n",
      " 0   Unnamed: 0         496 non-null    int64  \n",
      " 1   id                 496 non-null    int64  \n",
      " 2   article            496 non-null    object \n",
      " 3   ean_13             464 non-null    float64\n",
      " 4   name               494 non-null    object \n",
      " 5   cost               491 non-null    float64\n",
      " 6   recommended_price  491 non-null    float64\n",
      " 7   category_id        447 non-null    float64\n",
      " 8   ozon_name          458 non-null    object \n",
      " 9   name_1c            485 non-null    object \n",
      " 10  wb_name            455 non-null    object \n",
      " 11  ozon_article       365 non-null    float64\n",
      " 12  wb_article         340 non-null    float64\n",
      " 13  ym_article         337 non-null    object \n",
      " 14  wb_article_td      32 non-null     object \n",
      "dtypes: float64(6), int64(2), object(7)\n",
      "memory usage: 58.2+ KB\n"
     ]
    },
    {
     "data": {
      "text/plain": [
       "None"
      ]
     },
     "metadata": {},
     "output_type": "display_data"
    },
    {
     "data": {
      "text/html": [
       "<pre style=\"white-space:pre;overflow-x:auto;line-height:normal;font-family:Menlo,'DejaVu Sans Mono',consolas,'Courier New',monospace\"><span style=\"font-weight: bold\">Парсинг площадок дилеров:</span>\n",
       "</pre>\n"
      ],
      "text/plain": [
       "\u001b[1mПарсинг площадок дилеров:\u001b[0m\n"
      ]
     },
     "metadata": {},
     "output_type": "display_data"
    },
    {
     "data": {
      "text/html": [
       "<div>\n",
       "<style scoped>\n",
       "    .dataframe tbody tr th:only-of-type {\n",
       "        vertical-align: middle;\n",
       "    }\n",
       "\n",
       "    .dataframe tbody tr th {\n",
       "        vertical-align: top;\n",
       "    }\n",
       "\n",
       "    .dataframe thead th {\n",
       "        text-align: right;\n",
       "    }\n",
       "</style>\n",
       "<table border=\"1\" class=\"dataframe\">\n",
       "  <thead>\n",
       "    <tr style=\"text-align: right;\">\n",
       "      <th></th>\n",
       "      <th>id</th>\n",
       "      <th>product_key</th>\n",
       "      <th>price</th>\n",
       "      <th>product_url</th>\n",
       "      <th>product_name</th>\n",
       "      <th>date</th>\n",
       "      <th>dealer_id</th>\n",
       "    </tr>\n",
       "  </thead>\n",
       "  <tbody>\n",
       "    <tr>\n",
       "      <th>0</th>\n",
       "      <td>2</td>\n",
       "      <td>546227</td>\n",
       "      <td>233.0</td>\n",
       "      <td>https://akson.ru//p/sredstvo_universalnoe_prosept_universal_spray_500ml/</td>\n",
       "      <td>Средство универсальное Prosept Universal Spray, 500мл</td>\n",
       "      <td>2023-07-11</td>\n",
       "      <td>2</td>\n",
       "    </tr>\n",
       "    <tr>\n",
       "      <th>1</th>\n",
       "      <td>3</td>\n",
       "      <td>546408</td>\n",
       "      <td>175.0</td>\n",
       "      <td>https://akson.ru//p/kontsentrat_prosept_multipower_dlya_mytya_polov_tsitrus_1l/</td>\n",
       "      <td>Концентрат Prosept Multipower для мытья полов, цитрус 1л</td>\n",
       "      <td>2023-07-11</td>\n",
       "      <td>2</td>\n",
       "    </tr>\n",
       "  </tbody>\n",
       "</table>\n",
       "</div>"
      ],
      "text/plain": [
       "   id product_key  price  \\\n",
       "0   2      546227  233.0   \n",
       "1   3      546408  175.0   \n",
       "\n",
       "                                                                       product_url  \\\n",
       "0         https://akson.ru//p/sredstvo_universalnoe_prosept_universal_spray_500ml/   \n",
       "1  https://akson.ru//p/kontsentrat_prosept_multipower_dlya_mytya_polov_tsitrus_1l/   \n",
       "\n",
       "                                               product_name        date  \\\n",
       "0     Средство универсальное Prosept Universal Spray, 500мл  2023-07-11   \n",
       "1  Концентрат Prosept Multipower для мытья полов, цитрус 1л  2023-07-11   \n",
       "\n",
       "   dealer_id  \n",
       "0          2  \n",
       "1          2  "
      ]
     },
     "metadata": {},
     "output_type": "display_data"
    },
    {
     "name": "stdout",
     "output_type": "stream",
     "text": [
      "<class 'pandas.core.frame.DataFrame'>\n",
      "RangeIndex: 20416 entries, 0 to 20415\n",
      "Data columns (total 7 columns):\n",
      " #   Column        Non-Null Count  Dtype  \n",
      "---  ------        --------------  -----  \n",
      " 0   id            20416 non-null  int64  \n",
      " 1   product_key   20416 non-null  object \n",
      " 2   price         20416 non-null  float64\n",
      " 3   product_url   20182 non-null  object \n",
      " 4   product_name  20416 non-null  object \n",
      " 5   date          20416 non-null  object \n",
      " 6   dealer_id     20416 non-null  int64  \n",
      "dtypes: float64(1), int64(2), object(4)\n",
      "memory usage: 1.1+ MB\n"
     ]
    },
    {
     "data": {
      "text/plain": [
       "None"
      ]
     },
     "metadata": {},
     "output_type": "display_data"
    },
    {
     "data": {
      "text/html": [
       "<pre style=\"white-space:pre;overflow-x:auto;line-height:normal;font-family:Menlo,'DejaVu Sans Mono',consolas,'Courier New',monospace\"><span style=\"font-weight: bold\">Матчинга товаров:</span>\n",
       "</pre>\n"
      ],
      "text/plain": [
       "\u001b[1mМатчинга товаров:\u001b[0m\n"
      ]
     },
     "metadata": {},
     "output_type": "display_data"
    },
    {
     "data": {
      "text/html": [
       "<div>\n",
       "<style scoped>\n",
       "    .dataframe tbody tr th:only-of-type {\n",
       "        vertical-align: middle;\n",
       "    }\n",
       "\n",
       "    .dataframe tbody tr th {\n",
       "        vertical-align: top;\n",
       "    }\n",
       "\n",
       "    .dataframe thead th {\n",
       "        text-align: right;\n",
       "    }\n",
       "</style>\n",
       "<table border=\"1\" class=\"dataframe\">\n",
       "  <thead>\n",
       "    <tr style=\"text-align: right;\">\n",
       "      <th></th>\n",
       "      <th>id</th>\n",
       "      <th>key</th>\n",
       "      <th>dealer_id</th>\n",
       "      <th>product_id</th>\n",
       "    </tr>\n",
       "  </thead>\n",
       "  <tbody>\n",
       "    <tr>\n",
       "      <th>0</th>\n",
       "      <td>1</td>\n",
       "      <td>546227</td>\n",
       "      <td>2</td>\n",
       "      <td>12</td>\n",
       "    </tr>\n",
       "    <tr>\n",
       "      <th>1</th>\n",
       "      <td>2</td>\n",
       "      <td>651265</td>\n",
       "      <td>2</td>\n",
       "      <td>106</td>\n",
       "    </tr>\n",
       "  </tbody>\n",
       "</table>\n",
       "</div>"
      ],
      "text/plain": [
       "   id     key  dealer_id  product_id\n",
       "0   1  546227          2          12\n",
       "1   2  651265          2         106"
      ]
     },
     "metadata": {},
     "output_type": "display_data"
    },
    {
     "name": "stdout",
     "output_type": "stream",
     "text": [
      "<class 'pandas.core.frame.DataFrame'>\n",
      "RangeIndex: 1700 entries, 0 to 1699\n",
      "Data columns (total 4 columns):\n",
      " #   Column      Non-Null Count  Dtype \n",
      "---  ------      --------------  ----- \n",
      " 0   id          1700 non-null   int64 \n",
      " 1   key         1700 non-null   object\n",
      " 2   dealer_id   1700 non-null   int64 \n",
      " 3   product_id  1700 non-null   int64 \n",
      "dtypes: int64(3), object(1)\n",
      "memory usage: 53.2+ KB\n"
     ]
    },
    {
     "data": {
      "text/plain": [
       "None"
      ]
     },
     "metadata": {},
     "output_type": "display_data"
    }
   ],
   "source": [
    "# загрузка списока товаров, которые производит и распространяет заказчик\n",
    "try:\n",
    "    product = pd.read_csv(os.path.join(BASE_PATH, 'marketing_product.csv'), sep=';')\n",
    "    console.print('[bold]Список товаров:[/bold]')\n",
    "    display(product.head(2))\n",
    "    display(product.info())\n",
    "except:\n",
    "    print('Информация о товарах, которые производит и распространяет заказчик, недоступна')\n",
    "    \n",
    "# загрузка результатов работы парсера площадок дилеров\n",
    "try:\n",
    "    dealer = pd.read_csv(os.path.join(BASE_PATH, 'marketing_dealerprice.csv'), sep=';')\n",
    "    console.print('[bold]Парсинг площадок дилеров:[/bold]')\n",
    "    display(dealer.head(2))\n",
    "    display(dealer.info())\n",
    "except:\n",
    "    print('Информация о результатах работы парсера площадок дилеров, недоступна')\n",
    "    \n",
    "# загрузка таблицы матчинга товаров заказчика и товаров дилеров\n",
    "try:\n",
    "    marketing = pd.read_csv(os.path.join(BASE_PATH, 'marketing_productdealerkey.csv'), sep=';')\n",
    "    console.print('[bold]Матчинга товаров:[/bold]')\n",
    "    display(marketing.head(2))\n",
    "    display(marketing.info())\n",
    "except:\n",
    "    print('Информация о матчинге товаров, недоступна')"
   ]
  },
  {
   "cell_type": "markdown",
   "id": "458912ab",
   "metadata": {},
   "source": [
    "## product"
   ]
  },
  {
   "cell_type": "code",
   "execution_count": 3,
   "id": "4104e164",
   "metadata": {},
   "outputs": [],
   "source": [
    "df_product = product[['id', 'name']].dropna().drop_duplicates()"
   ]
  },
  {
   "cell_type": "code",
   "execution_count": 5,
   "id": "79a58882",
   "metadata": {},
   "outputs": [
    {
     "data": {
      "text/html": [
       "<div>\n",
       "<style scoped>\n",
       "    .dataframe tbody tr th:only-of-type {\n",
       "        vertical-align: middle;\n",
       "    }\n",
       "\n",
       "    .dataframe tbody tr th {\n",
       "        vertical-align: top;\n",
       "    }\n",
       "\n",
       "    .dataframe thead th {\n",
       "        text-align: right;\n",
       "    }\n",
       "</style>\n",
       "<table border=\"1\" class=\"dataframe\">\n",
       "  <thead>\n",
       "    <tr style=\"text-align: right;\">\n",
       "      <th></th>\n",
       "      <th>id</th>\n",
       "      <th>name</th>\n",
       "    </tr>\n",
       "  </thead>\n",
       "  <tbody>\n",
       "    <tr>\n",
       "      <th>0</th>\n",
       "      <td>245</td>\n",
       "      <td>Антисептик невымываемыйPROSEPT ULTRAконцентрат 1:10  / 1 л</td>\n",
       "    </tr>\n",
       "    <tr>\n",
       "      <th>1</th>\n",
       "      <td>3</td>\n",
       "      <td>Антигололед - 32 PROSEPTготовый состав / 12 кг</td>\n",
       "    </tr>\n",
       "    <tr>\n",
       "      <th>2</th>\n",
       "      <td>443</td>\n",
       "      <td>Герметик акриловый цвет сосна, ф/п 600мл</td>\n",
       "    </tr>\n",
       "    <tr>\n",
       "      <th>3</th>\n",
       "      <td>147</td>\n",
       "      <td>Кондиционер для белья с ароматом  королевского ИрисаCrystal Rinserконцентрат / 2 л</td>\n",
       "    </tr>\n",
       "    <tr>\n",
       "      <th>4</th>\n",
       "      <td>502</td>\n",
       "      <td>Герметик акриловой  цвет Белый, 7 кг</td>\n",
       "    </tr>\n",
       "  </tbody>\n",
       "</table>\n",
       "</div>"
      ],
      "text/plain": [
       "    id  \\\n",
       "0  245   \n",
       "1    3   \n",
       "2  443   \n",
       "3  147   \n",
       "4  502   \n",
       "\n",
       "                                                                                  name  \n",
       "0                           Антисептик невымываемыйPROSEPT ULTRAконцентрат 1:10  / 1 л  \n",
       "1                                       Антигололед - 32 PROSEPTготовый состав / 12 кг  \n",
       "2                                             Герметик акриловый цвет сосна, ф/п 600мл  \n",
       "3  Кондиционер для белья с ароматом  королевского ИрисаCrystal Rinserконцентрат / 2 л   \n",
       "4                                                 Герметик акриловой  цвет Белый, 7 кг  "
      ]
     },
     "metadata": {},
     "output_type": "display_data"
    }
   ],
   "source": [
    "display(df_product.head())"
   ]
  },
  {
   "cell_type": "markdown",
   "id": "854ebf67",
   "metadata": {},
   "source": [
    "## dealer"
   ]
  },
  {
   "cell_type": "code",
   "execution_count": 6,
   "id": "c7504fb6",
   "metadata": {},
   "outputs": [
    {
     "data": {
      "text/html": [
       "<div>\n",
       "<style scoped>\n",
       "    .dataframe tbody tr th:only-of-type {\n",
       "        vertical-align: middle;\n",
       "    }\n",
       "\n",
       "    .dataframe tbody tr th {\n",
       "        vertical-align: top;\n",
       "    }\n",
       "\n",
       "    .dataframe thead th {\n",
       "        text-align: right;\n",
       "    }\n",
       "</style>\n",
       "<table border=\"1\" class=\"dataframe\">\n",
       "  <thead>\n",
       "    <tr style=\"text-align: right;\">\n",
       "      <th></th>\n",
       "      <th>product_key</th>\n",
       "      <th>product_name</th>\n",
       "    </tr>\n",
       "  </thead>\n",
       "  <tbody>\n",
       "    <tr>\n",
       "      <th>0</th>\n",
       "      <td>546227</td>\n",
       "      <td>Средство универсальное Prosept Universal Spray, 500мл</td>\n",
       "    </tr>\n",
       "    <tr>\n",
       "      <th>1</th>\n",
       "      <td>546408</td>\n",
       "      <td>Концентрат Prosept Multipower для мытья полов, цитрус 1л</td>\n",
       "    </tr>\n",
       "    <tr>\n",
       "      <th>2</th>\n",
       "      <td>546234</td>\n",
       "      <td>Средство для чистки люстр Prosept Universal Anti-dust, 500мл</td>\n",
       "    </tr>\n",
       "    <tr>\n",
       "      <th>3</th>\n",
       "      <td>651258</td>\n",
       "      <td>Удалитель ржавчины PROSEPT RUST REMOVER 0,5л 023-05</td>\n",
       "    </tr>\n",
       "    <tr>\n",
       "      <th>4</th>\n",
       "      <td>546355</td>\n",
       "      <td>Средство моющее для бани и сауны Prosept Multipower Wood 1л</td>\n",
       "    </tr>\n",
       "  </tbody>\n",
       "</table>\n",
       "</div>"
      ],
      "text/plain": [
       "  product_key                                                  product_name\n",
       "0      546227         Средство универсальное Prosept Universal Spray, 500мл\n",
       "1      546408      Концентрат Prosept Multipower для мытья полов, цитрус 1л\n",
       "2      546234  Средство для чистки люстр Prosept Universal Anti-dust, 500мл\n",
       "3      651258           Удалитель ржавчины PROSEPT RUST REMOVER 0,5л 023-05\n",
       "4      546355   Средство моющее для бани и сауны Prosept Multipower Wood 1л"
      ]
     },
     "metadata": {},
     "output_type": "display_data"
    }
   ],
   "source": [
    "df_dealer = dealer[['product_key', 'product_name']].copy()\n",
    "display(df_dealer.head())"
   ]
  },
  {
   "cell_type": "markdown",
   "id": "85ffc069",
   "metadata": {},
   "source": [
    "## Формирование датасета для тестирования"
   ]
  },
  {
   "cell_type": "code",
   "execution_count": 7,
   "id": "17fbd036",
   "metadata": {},
   "outputs": [
    {
     "data": {
      "text/html": [
       "<div>\n",
       "<style scoped>\n",
       "    .dataframe tbody tr th:only-of-type {\n",
       "        vertical-align: middle;\n",
       "    }\n",
       "\n",
       "    .dataframe tbody tr th {\n",
       "        vertical-align: top;\n",
       "    }\n",
       "\n",
       "    .dataframe thead th {\n",
       "        text-align: right;\n",
       "    }\n",
       "</style>\n",
       "<table border=\"1\" class=\"dataframe\">\n",
       "  <thead>\n",
       "    <tr style=\"text-align: right;\">\n",
       "      <th></th>\n",
       "      <th>product_key</th>\n",
       "      <th>product_name</th>\n",
       "      <th>dealer_id</th>\n",
       "      <th>product_id</th>\n",
       "      <th>name</th>\n",
       "    </tr>\n",
       "  </thead>\n",
       "  <tbody>\n",
       "    <tr>\n",
       "      <th>0</th>\n",
       "      <td>546227</td>\n",
       "      <td>Средство универсальное Prosept Universal Spray, 500мл</td>\n",
       "      <td>2</td>\n",
       "      <td>12</td>\n",
       "      <td>Универсальное моющее и чистящее средствоUniversal Sprayготовый состав / 0,5 л</td>\n",
       "    </tr>\n",
       "    <tr>\n",
       "      <th>6</th>\n",
       "      <td>546408</td>\n",
       "      <td>Концентрат Prosept Multipower для мытья полов, цитрус 1л</td>\n",
       "      <td>2</td>\n",
       "      <td>38</td>\n",
       "      <td>Концентрат для мытья половMULTIPOWER с ароматом цитрусаконцентрат / 1 л</td>\n",
       "    </tr>\n",
       "    <tr>\n",
       "      <th>18</th>\n",
       "      <td>546234</td>\n",
       "      <td>Средство для чистки люстр Prosept Universal Anti-dust, 500мл</td>\n",
       "      <td>2</td>\n",
       "      <td>18</td>\n",
       "      <td>Средство для чистки люстр Universal Anti-dust готовый состав / 0,5 л</td>\n",
       "    </tr>\n",
       "    <tr>\n",
       "      <th>30</th>\n",
       "      <td>651258</td>\n",
       "      <td>Удалитель ржавчины PROSEPT RUST REMOVER 0,5л 023-05</td>\n",
       "      <td>2</td>\n",
       "      <td>403</td>\n",
       "      <td>Удалитель ржавчины RUST REMOVER готовый состав / 0,5 л</td>\n",
       "    </tr>\n",
       "    <tr>\n",
       "      <th>42</th>\n",
       "      <td>546355</td>\n",
       "      <td>Средство моющее для бани и сауны Prosept Multipower Wood 1л</td>\n",
       "      <td>2</td>\n",
       "      <td>39</td>\n",
       "      <td>Моющее средство для бани и сауныMultipower Wood концентрат / 1 л</td>\n",
       "    </tr>\n",
       "  </tbody>\n",
       "</table>\n",
       "</div>"
      ],
      "text/plain": [
       "   product_key                                                  product_name  \\\n",
       "0       546227         Средство универсальное Prosept Universal Spray, 500мл   \n",
       "6       546408      Концентрат Prosept Multipower для мытья полов, цитрус 1л   \n",
       "18      546234  Средство для чистки люстр Prosept Universal Anti-dust, 500мл   \n",
       "30      651258           Удалитель ржавчины PROSEPT RUST REMOVER 0,5л 023-05   \n",
       "42      546355   Средство моющее для бани и сауны Prosept Multipower Wood 1л   \n",
       "\n",
       "    dealer_id  product_id  \\\n",
       "0           2          12   \n",
       "6           2          38   \n",
       "18          2          18   \n",
       "30          2         403   \n",
       "42          2          39   \n",
       "\n",
       "                                                                             name  \n",
       "0   Универсальное моющее и чистящее средствоUniversal Sprayготовый состав / 0,5 л  \n",
       "6         Концентрат для мытья половMULTIPOWER с ароматом цитрусаконцентрат / 1 л  \n",
       "18           Средство для чистки люстр Universal Anti-dust готовый состав / 0,5 л  \n",
       "30                         Удалитель ржавчины RUST REMOVER готовый состав / 0,5 л  \n",
       "42               Моющее средство для бани и сауныMultipower Wood концентрат / 1 л  "
      ]
     },
     "execution_count": 7,
     "metadata": {},
     "output_type": "execute_result"
    }
   ],
   "source": [
    "df = pd.merge(df_dealer, marketing, left_on='product_key', right_on='key', how='inner')\n",
    "df = pd.merge(df, df_product, left_on='product_id', right_on='id', how='left')\n",
    "df = df.drop(['id_x', 'id_y', 'key'], axis=1).drop_duplicates()\n",
    "df.head()"
   ]
  },
  {
   "cell_type": "markdown",
   "id": "2516245a",
   "metadata": {},
   "source": [
    "<div style=\"padding:0px 20px 10px;\n",
    "            color:#004346;\n",
    "            font-size:15px;\n",
    "            display:fill;\n",
    "            text-align:center;\n",
    "            border-radius:20px;\n",
    "            border: 5px double;\n",
    "            border-color:#201E20;\n",
    "            background-color: #E8F1F2;\n",
    "            overflow:hidden;\n",
    "            font-weight:400\">\n",
    "\n",
    "# Очистка данных\n",
    "\n",
    "</div>"
   ]
  },
  {
   "cell_type": "code",
   "execution_count": 8,
   "id": "505455d3",
   "metadata": {},
   "outputs": [],
   "source": [
    "SPACES = r'(?<=[а-яА-Я])(?=[a-zA-Z])|(?<=[a-zA-Z])(?=[а-яА-Я])'\n",
    "DUP_SPACES = r'([ ])\\1+'\n",
    "COMMA_OUT_LINE = r',\\s'\n",
    "DROP_BRASKET = r'[()\\s]'\n",
    "DROP_NUM = r'(?<=\\s)\\d+(?=\\s)'"
   ]
  },
  {
   "cell_type": "code",
   "execution_count": 9,
   "id": "f4dae9cb",
   "metadata": {},
   "outputs": [],
   "source": [
    "def clean_string(input_string):\n",
    "    input_string = re.sub(SPACES, ' ', input_string.lower()) # нижний регистр, обработка пропущенных пробелов\n",
    "    input_string = re.sub(COMMA_OUT_LINE, ' ', input_string) # убираем внешние запятые\n",
    "    input_string = re.sub(DROP_BRASKET, ' ', input_string) # убираем '(',')'\n",
    "    input_string = input_string.replace('prosept', '') # убираем название фирмы\n",
    "    input_string = input_string.replace('просепт', '')\n",
    "    input_string = input_string.replace('\"', ' ')\n",
    "    input_string = input_string.replace('–', ' ') ## 0\n",
    "    input_string = input_string.replace(' /', '') \n",
    "    input_string = input_string.replace('-', ' ')\n",
    "    input_string = re.sub(DUP_SPACES, r'\\1', input_string) # обработка двойных пробелов\n",
    "    return input_string"
   ]
  },
  {
   "cell_type": "code",
   "execution_count": 10,
   "id": "e87ebca5",
   "metadata": {},
   "outputs": [],
   "source": [
    "df_product['name_clean'] = product['name'].astype(str).apply(clean_string)\n",
    "df['product_name_clean'] = df['product_name'].astype(str).apply(clean_string)\n",
    "df['name_clean'] = df['name'].astype(str).apply(clean_string)"
   ]
  },
  {
   "cell_type": "code",
   "execution_count": 11,
   "id": "4dffa763",
   "metadata": {},
   "outputs": [
    {
     "data": {
      "text/html": [
       "<div>\n",
       "<style scoped>\n",
       "    .dataframe tbody tr th:only-of-type {\n",
       "        vertical-align: middle;\n",
       "    }\n",
       "\n",
       "    .dataframe tbody tr th {\n",
       "        vertical-align: top;\n",
       "    }\n",
       "\n",
       "    .dataframe thead th {\n",
       "        text-align: right;\n",
       "    }\n",
       "</style>\n",
       "<table border=\"1\" class=\"dataframe\">\n",
       "  <thead>\n",
       "    <tr style=\"text-align: right;\">\n",
       "      <th></th>\n",
       "      <th>id</th>\n",
       "      <th>name</th>\n",
       "      <th>name_clean</th>\n",
       "    </tr>\n",
       "  </thead>\n",
       "  <tbody>\n",
       "    <tr>\n",
       "      <th>0</th>\n",
       "      <td>245</td>\n",
       "      <td>Антисептик невымываемыйPROSEPT ULTRAконцентрат 1:10  / 1 л</td>\n",
       "      <td>антисептик невымываемый ultra концентрат 1:10 1 л</td>\n",
       "    </tr>\n",
       "    <tr>\n",
       "      <th>1</th>\n",
       "      <td>3</td>\n",
       "      <td>Антигололед - 32 PROSEPTготовый состав / 12 кг</td>\n",
       "      <td>антигололед 32 готовый состав 12 кг</td>\n",
       "    </tr>\n",
       "    <tr>\n",
       "      <th>2</th>\n",
       "      <td>443</td>\n",
       "      <td>Герметик акриловый цвет сосна, ф/п 600мл</td>\n",
       "      <td>герметик акриловый цвет сосна ф/п 600мл</td>\n",
       "    </tr>\n",
       "    <tr>\n",
       "      <th>3</th>\n",
       "      <td>147</td>\n",
       "      <td>Кондиционер для белья с ароматом  королевского ИрисаCrystal Rinserконцентрат / 2 л</td>\n",
       "      <td>кондиционер для белья с ароматом королевского ириса crystal rinser концентрат 2 л</td>\n",
       "    </tr>\n",
       "    <tr>\n",
       "      <th>4</th>\n",
       "      <td>502</td>\n",
       "      <td>Герметик акриловой  цвет Белый, 7 кг</td>\n",
       "      <td>герметик акриловой цвет белый 7 кг</td>\n",
       "    </tr>\n",
       "  </tbody>\n",
       "</table>\n",
       "</div>"
      ],
      "text/plain": [
       "    id  \\\n",
       "0  245   \n",
       "1    3   \n",
       "2  443   \n",
       "3  147   \n",
       "4  502   \n",
       "\n",
       "                                                                                  name  \\\n",
       "0                           Антисептик невымываемыйPROSEPT ULTRAконцентрат 1:10  / 1 л   \n",
       "1                                       Антигололед - 32 PROSEPTготовый состав / 12 кг   \n",
       "2                                             Герметик акриловый цвет сосна, ф/п 600мл   \n",
       "3  Кондиционер для белья с ароматом  королевского ИрисаCrystal Rinserконцентрат / 2 л    \n",
       "4                                                 Герметик акриловой  цвет Белый, 7 кг   \n",
       "\n",
       "                                                                           name_clean  \n",
       "0                                   антисептик невымываемый ultra концентрат 1:10 1 л  \n",
       "1                                                 антигололед 32 готовый состав 12 кг  \n",
       "2                                             герметик акриловый цвет сосна ф/п 600мл  \n",
       "3  кондиционер для белья с ароматом королевского ириса crystal rinser концентрат 2 л   \n",
       "4                                                  герметик акриловой цвет белый 7 кг  "
      ]
     },
     "execution_count": 11,
     "metadata": {},
     "output_type": "execute_result"
    }
   ],
   "source": [
    "df_product.head()"
   ]
  },
  {
   "cell_type": "code",
   "execution_count": 12,
   "id": "b12bf63e",
   "metadata": {},
   "outputs": [
    {
     "data": {
      "text/html": [
       "<div>\n",
       "<style scoped>\n",
       "    .dataframe tbody tr th:only-of-type {\n",
       "        vertical-align: middle;\n",
       "    }\n",
       "\n",
       "    .dataframe tbody tr th {\n",
       "        vertical-align: top;\n",
       "    }\n",
       "\n",
       "    .dataframe thead th {\n",
       "        text-align: right;\n",
       "    }\n",
       "</style>\n",
       "<table border=\"1\" class=\"dataframe\">\n",
       "  <thead>\n",
       "    <tr style=\"text-align: right;\">\n",
       "      <th></th>\n",
       "      <th>product_key</th>\n",
       "      <th>product_name</th>\n",
       "      <th>dealer_id</th>\n",
       "      <th>product_id</th>\n",
       "      <th>name</th>\n",
       "      <th>product_name_clean</th>\n",
       "      <th>name_clean</th>\n",
       "    </tr>\n",
       "  </thead>\n",
       "  <tbody>\n",
       "    <tr>\n",
       "      <th>0</th>\n",
       "      <td>546227</td>\n",
       "      <td>Средство универсальное Prosept Universal Spray, 500мл</td>\n",
       "      <td>2</td>\n",
       "      <td>12</td>\n",
       "      <td>Универсальное моющее и чистящее средствоUniversal Sprayготовый состав / 0,5 л</td>\n",
       "      <td>средство универсальное universal spray 500мл</td>\n",
       "      <td>универсальное моющее и чистящее средство universal spray готовый состав 0,5 л</td>\n",
       "    </tr>\n",
       "    <tr>\n",
       "      <th>6</th>\n",
       "      <td>546408</td>\n",
       "      <td>Концентрат Prosept Multipower для мытья полов, цитрус 1л</td>\n",
       "      <td>2</td>\n",
       "      <td>38</td>\n",
       "      <td>Концентрат для мытья половMULTIPOWER с ароматом цитрусаконцентрат / 1 л</td>\n",
       "      <td>концентрат multipower для мытья полов цитрус 1л</td>\n",
       "      <td>концентрат для мытья полов multipower с ароматом цитрусаконцентрат 1 л</td>\n",
       "    </tr>\n",
       "    <tr>\n",
       "      <th>18</th>\n",
       "      <td>546234</td>\n",
       "      <td>Средство для чистки люстр Prosept Universal Anti-dust, 500мл</td>\n",
       "      <td>2</td>\n",
       "      <td>18</td>\n",
       "      <td>Средство для чистки люстр Universal Anti-dust готовый состав / 0,5 л</td>\n",
       "      <td>средство для чистки люстр universal anti dust 500мл</td>\n",
       "      <td>средство для чистки люстр universal anti dust готовый состав 0,5 л</td>\n",
       "    </tr>\n",
       "    <tr>\n",
       "      <th>30</th>\n",
       "      <td>651258</td>\n",
       "      <td>Удалитель ржавчины PROSEPT RUST REMOVER 0,5л 023-05</td>\n",
       "      <td>2</td>\n",
       "      <td>403</td>\n",
       "      <td>Удалитель ржавчины RUST REMOVER готовый состав / 0,5 л</td>\n",
       "      <td>удалитель ржавчины rust remover 0,5л 023 05</td>\n",
       "      <td>удалитель ржавчины rust remover готовый состав 0,5 л</td>\n",
       "    </tr>\n",
       "    <tr>\n",
       "      <th>42</th>\n",
       "      <td>546355</td>\n",
       "      <td>Средство моющее для бани и сауны Prosept Multipower Wood 1л</td>\n",
       "      <td>2</td>\n",
       "      <td>39</td>\n",
       "      <td>Моющее средство для бани и сауныMultipower Wood концентрат / 1 л</td>\n",
       "      <td>средство моющее для бани и сауны multipower wood 1л</td>\n",
       "      <td>моющее средство для бани и сауны multipower wood концентрат 1 л</td>\n",
       "    </tr>\n",
       "  </tbody>\n",
       "</table>\n",
       "</div>"
      ],
      "text/plain": [
       "   product_key                                                  product_name  \\\n",
       "0       546227         Средство универсальное Prosept Universal Spray, 500мл   \n",
       "6       546408      Концентрат Prosept Multipower для мытья полов, цитрус 1л   \n",
       "18      546234  Средство для чистки люстр Prosept Universal Anti-dust, 500мл   \n",
       "30      651258           Удалитель ржавчины PROSEPT RUST REMOVER 0,5л 023-05   \n",
       "42      546355   Средство моющее для бани и сауны Prosept Multipower Wood 1л   \n",
       "\n",
       "    dealer_id  product_id  \\\n",
       "0           2          12   \n",
       "6           2          38   \n",
       "18          2          18   \n",
       "30          2         403   \n",
       "42          2          39   \n",
       "\n",
       "                                                                             name  \\\n",
       "0   Универсальное моющее и чистящее средствоUniversal Sprayготовый состав / 0,5 л   \n",
       "6         Концентрат для мытья половMULTIPOWER с ароматом цитрусаконцентрат / 1 л   \n",
       "18           Средство для чистки люстр Universal Anti-dust готовый состав / 0,5 л   \n",
       "30                         Удалитель ржавчины RUST REMOVER готовый состав / 0,5 л   \n",
       "42               Моющее средство для бани и сауныMultipower Wood концентрат / 1 л   \n",
       "\n",
       "                                     product_name_clean  \\\n",
       "0          средство универсальное universal spray 500мл   \n",
       "6       концентрат multipower для мытья полов цитрус 1л   \n",
       "18  средство для чистки люстр universal anti dust 500мл   \n",
       "30          удалитель ржавчины rust remover 0,5л 023 05   \n",
       "42  средство моющее для бани и сауны multipower wood 1л   \n",
       "\n",
       "                                                                       name_clean  \n",
       "0   универсальное моющее и чистящее средство universal spray готовый состав 0,5 л  \n",
       "6          концентрат для мытья полов multipower с ароматом цитрусаконцентрат 1 л  \n",
       "18             средство для чистки люстр universal anti dust готовый состав 0,5 л  \n",
       "30                           удалитель ржавчины rust remover готовый состав 0,5 л  \n",
       "42                моющее средство для бани и сауны multipower wood концентрат 1 л  "
      ]
     },
     "execution_count": 12,
     "metadata": {},
     "output_type": "execute_result"
    }
   ],
   "source": [
    "df.head()"
   ]
  },
  {
   "cell_type": "markdown",
   "id": "a82553d9",
   "metadata": {},
   "source": [
    "<div style=\"padding:0px 20px 10px;\n",
    "            color:#004346;\n",
    "            font-size:15px;\n",
    "            display:fill;\n",
    "            text-align:center;\n",
    "            border-radius:20px;\n",
    "            border: 5px double;\n",
    "            border-color:#201E20;\n",
    "            background-color: #E8F1F2;\n",
    "            overflow:hidden;\n",
    "            font-weight:400\">\n",
    "\n",
    "# ML\n",
    "\n",
    "</div>"
   ]
  },
  {
   "cell_type": "code",
   "execution_count": 13,
   "id": "8c824394",
   "metadata": {
    "scrolled": true
   },
   "outputs": [],
   "source": [
    "# предобученная модель\n",
    "model = SentenceTransformer('distiluse-base-multilingual-cased-v1')"
   ]
  },
  {
   "cell_type": "code",
   "execution_count": 14,
   "id": "7c69f4ee",
   "metadata": {},
   "outputs": [],
   "source": [
    "# получение векторных представлений для названий товаров\n",
    "name_embeddings = model.encode(df_product['name_clean'].values)"
   ]
  },
  {
   "cell_type": "code",
   "execution_count": 15,
   "id": "64ac24b8",
   "metadata": {},
   "outputs": [],
   "source": [
    "df_model = df_product.copy()"
   ]
  },
  {
   "cell_type": "code",
   "execution_count": 16,
   "id": "65fcebb0",
   "metadata": {},
   "outputs": [],
   "source": [
    "# добавление нового столбца с векторными представлениями в DataFrame\n",
    "df_model['name_embedding'] = list(name_embeddings)"
   ]
  },
  {
   "cell_type": "code",
   "execution_count": 17,
   "id": "31a21c64",
   "metadata": {},
   "outputs": [],
   "source": [
    "df_model = df_model[['name', 'name_clean', 'name_embedding']]"
   ]
  },
  {
   "cell_type": "markdown",
   "id": "6455d2ee",
   "metadata": {},
   "source": [
    "__Тестирование__"
   ]
  },
  {
   "cell_type": "code",
   "execution_count": 18,
   "id": "27ab5f8a",
   "metadata": {},
   "outputs": [],
   "source": [
    "def conclusion(input_sentence, n):\n",
    "    input_embedding = model.encode(input_sentence)\n",
    "    df = df_model.copy()\n",
    "    df['input_vector'] = [input_embedding]*len(df)\n",
    "    df['cos_sim'] = df.apply(lambda x: util.cos_sim(x['name_embedding'], x['input_vector']).item(), axis=1)\n",
    "    df = df.sort_values(by='cos_sim', ascending=False)\n",
    "    return df.head(n)['name'].values"
   ]
  },
  {
   "cell_type": "code",
   "execution_count": 19,
   "id": "23b4c577",
   "metadata": {},
   "outputs": [],
   "source": [
    "def rez(x, n):\n",
    "    predict = conclusion(x['product_name'], n)\n",
    "    return 1 if x['name'] in predict else 0"
   ]
  },
  {
   "cell_type": "code",
   "execution_count": 20,
   "id": "8e3a59ca",
   "metadata": {},
   "outputs": [
    {
     "name": "stdout",
     "output_type": "stream",
     "text": [
      "accuracy@1: 0.6972205795387345\n",
      "accuracy@3: 0.8521584861028977\n",
      "accuracy@5: 0.8965109402720284\n",
      "accuracy@10: 0.9343583678296866\n"
     ]
    }
   ],
   "source": [
    "# метрика для разных n\n",
    "for n in [1, 3, 5, 10]:\n",
    "    df['rez'] = df.apply(lambda x: rez(x, n), axis=1)\n",
    "    print(f\"accuracy@{n}: {df['rez'].mean()}\")"
   ]
  },
  {
   "cell_type": "markdown",
   "id": "ace32183",
   "metadata": {},
   "source": [
    "__Посмотрим на записи, к которым не удалось подобрать товар из базы:__"
   ]
  },
  {
   "cell_type": "code",
   "execution_count": 26,
   "id": "1c22b7fc",
   "metadata": {},
   "outputs": [
    {
     "data": {
      "text/html": [
       "<div>\n",
       "<style scoped>\n",
       "    .dataframe tbody tr th:only-of-type {\n",
       "        vertical-align: middle;\n",
       "    }\n",
       "\n",
       "    .dataframe tbody tr th {\n",
       "        vertical-align: top;\n",
       "    }\n",
       "\n",
       "    .dataframe thead th {\n",
       "        text-align: right;\n",
       "    }\n",
       "</style>\n",
       "<table border=\"1\" class=\"dataframe\">\n",
       "  <thead>\n",
       "    <tr style=\"text-align: right;\">\n",
       "      <th></th>\n",
       "      <th>name</th>\n",
       "      <th>product_name</th>\n",
       "    </tr>\n",
       "  </thead>\n",
       "  <tbody>\n",
       "    <tr>\n",
       "      <th>90</th>\n",
       "      <td>Шпатлевка-замазка для заделки глубоких выбоин и трещинPlastix / 1,4 кг</td>\n",
       "      <td>Шпаклевка выравнивающая акриловая PROSEPT Plastix белая, 1 кг.</td>\n",
       "    </tr>\n",
       "    <tr>\n",
       "      <th>212</th>\n",
       "      <td>Шпатлевка для плит OSBProplast / 1,3 кг</td>\n",
       "      <td>Шпаклевка для OSB-плит акриловая PROSEPT Proplast белая, 1 кг.</td>\n",
       "    </tr>\n",
       "    <tr>\n",
       "      <th>800</th>\n",
       "      <td>Антисептик лессирующий BiO LASUR / тик / 2,7 л</td>\n",
       "      <td>Просепт Bio Lasur антисептик лессирующий защитно-декоративный (9 л)</td>\n",
       "    </tr>\n",
       "    <tr>\n",
       "      <th>917</th>\n",
       "      <td>Антисептик лессирующий BiO LASUR / белый люкс / 0,9 л</td>\n",
       "      <td>Просепт Bio Lasur антисептик лессирующий защитно-декоративный (900 мл)</td>\n",
       "    </tr>\n",
       "    <tr>\n",
       "      <th>930</th>\n",
       "      <td>Антисептик лессирующий BiO LASUR / сосна / 0,9 л</td>\n",
       "      <td>Просепт Bio Lasur антисептик лессирующий защитно-декоративный (900 мл)</td>\n",
       "    </tr>\n",
       "  </tbody>\n",
       "</table>\n",
       "</div>"
      ],
      "text/plain": [
       "                                                                       name  \\\n",
       "90   Шпатлевка-замазка для заделки глубоких выбоин и трещинPlastix / 1,4 кг   \n",
       "212                                 Шпатлевка для плит OSBProplast / 1,3 кг   \n",
       "800                          Антисептик лессирующий BiO LASUR / тик / 2,7 л   \n",
       "917                   Антисептик лессирующий BiO LASUR / белый люкс / 0,9 л   \n",
       "930                        Антисептик лессирующий BiO LASUR / сосна / 0,9 л   \n",
       "\n",
       "                                                               product_name  \n",
       "90           Шпаклевка выравнивающая акриловая PROSEPT Plastix белая, 1 кг.  \n",
       "212          Шпаклевка для OSB-плит акриловая PROSEPT Proplast белая, 1 кг.  \n",
       "800     Просепт Bio Lasur антисептик лессирующий защитно-декоративный (9 л)  \n",
       "917  Просепт Bio Lasur антисептик лессирующий защитно-декоративный (900 мл)  \n",
       "930  Просепт Bio Lasur антисептик лессирующий защитно-декоративный (900 мл)  "
      ]
     },
     "metadata": {},
     "output_type": "display_data"
    }
   ],
   "source": [
    "display(df[df['rez']==0][['name', 'product_name']].head())"
   ]
  }
 ],
 "metadata": {
  "kernelspec": {
   "display_name": "Python 3 (ipykernel)",
   "language": "python",
   "name": "python3"
  },
  "language_info": {
   "codemirror_mode": {
    "name": "ipython",
    "version": 3
   },
   "file_extension": ".py",
   "mimetype": "text/x-python",
   "name": "python",
   "nbconvert_exporter": "python",
   "pygments_lexer": "ipython3",
   "version": "3.10.9"
  },
  "toc": {
   "base_numbering": 1,
   "nav_menu": {},
   "number_sections": true,
   "sideBar": true,
   "skip_h1_title": false,
   "title_cell": "Table of Contents",
   "title_sidebar": "Contents",
   "toc_cell": false,
   "toc_position": {},
   "toc_section_display": true,
   "toc_window_display": false
  }
 },
 "nbformat": 4,
 "nbformat_minor": 5
}
